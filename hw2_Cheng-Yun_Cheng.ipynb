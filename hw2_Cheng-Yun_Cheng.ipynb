{
  "cells": [
    {
      "cell_type": "markdown",
      "metadata": {
        "id": "x8cH2rRlfU7i"
      },
      "source": [
        "#### CSCE 670 :: Information Storage & Retrieval :: Texas A&M University :: Spring 2023\n",
        "\n",
        "\n",
        "# Homework 2: Implicit Recommender Systems\n",
        "\n",
        "### 100 points [9% of your final grade]\n",
        "\n",
        "### Due: March 9 (Thursday) by 11:59pm\n",
        "\n",
        "*Goals of this homework:* The objective of this homework is to get you familiar with the pipelines of implicit recommendation, turn the theories of collaborative filtering, matrix factorization, and bayesian personalized ranking (BPR) into practice, and compare the results with the naive non-personalized recommendation to see how personalized collaborative filtering algorithms, matrix factorization model, and the BPR model provide better recommendations for the ranking task (with implicit feedback).\n",
        "\n",
        "*Submission instructions (eCampus):* To submit your homework, rename this notebook as `UIN_hw1.ipynb`. For example, my homework submission would be something like `555001234_hw1.ipynb`. Submit this notebook via eCampus (look for the homework 2 assignment there). Your notebook should be completely self-contained, with the results visible in the notebook. We should not have to run any code from the command line, nor should we have to run your code within the notebook (though we reserve the right to do so). So please run all the cells for us, and then submit.\n",
        "\n",
        "*Late submission policy:* For this homework, you may use as many late days as you like (up to the 5 total allotted to you).\n",
        "\n",
        "*Collaboration policy:* You are expected to complete each homework independently. Your solution should be written by you without the direct aid or help of anyone else. However, we believe that collaboration and team work are important for facilitating learning, so we encourage you to discuss problems and general problem approaches (but not actual solutions) with your classmates. You may post on Piazza, search StackOverflow, etc. But if you do get help in this way, you must inform us by **filling out the Collaboration Declarations at the bottom of this notebook**. \n",
        "\n",
        "*Example: I found helpful code on stackoverflow at https://stackoverflow.com/questions/11764539/writing-fizzbuzz that helped me solve Problem 2.*\n",
        "\n",
        "The basic rule is that no student should explicitly share a solution with another student (and thereby circumvent the basic learning process), but it is okay to share general approaches, directions, and so on. If you feel like you have an issue that needs clarification, feel free to contact either me or the TA."
      ]
    },
    {
      "cell_type": "markdown",
      "metadata": {
        "id": "sgS43jLbL77U"
      },
      "source": [
        "# Part 1. Recommendations with Implicit Feedback (20 points)\n",
        "\n",
        "For this part, we're going to build a simple **non-personalized** implicit recommendation algorithm. Since feedback like user clicks, purchases, and views is much more widespread than explicit ratings, implicit recommenders offer great opportunities for far-reaching impact. \n",
        "\n",
        "Concretely, the task of implicit recommendation is to recommend items to users based on implicit signals from users, i.e., we only know what items a user is interested in, but have no idea what items the user dislikes. So for this case, the dataset we could use for this implicit recommendation experiment only contains binary data with 1 representing that the user likes the item, and with 0 representing that we don't know the user's preference towards the item. Because of this, we cannot use the same evaluation method as explicit recommendation. Instead, we need to evaluate the implicit recommendation quality by a ranking task.\n",
        "\n",
        "For this part, we will:\n",
        "* load and process the MovieLens 1M dataset,\n",
        "* transfer the explicit dataset to implicit one,\n",
        "* build a non-personalized implicit recommender, \n",
        "* and evaluate your recommender."
      ]
    },
    {
      "cell_type": "markdown",
      "metadata": {
        "id": "_e5ak01BL77T"
      },
      "source": [
        "To start out, we need to prepare the data. We will use the MovieLens 1M data from https://grouplens.org/datasets/movielens/1m/ in this homework. Lucky for you, we are providing the file containing the ratings -- ratings.dat  -- so all you need to do is load the ratings.dat file in the notebook as a DataFrame variable using the Pandas library. The code to do this has been provided in the next cell, but you need to run it. The resulting data variables are: train_mat is the numpy array variable for training data of size (#users, #items) with non-zero entries representing user-item ratings, and zero entries representing unknown user-item ratings; and test_mat is the numpy array variable for testing data of size (#users, #items)."
      ]
    },
    {
      "cell_type": "code",
      "execution_count": 3,
      "metadata": {
        "id": "ZaocWZ94MD-e"
      },
      "outputs": [],
      "source": [
        "import pandas as pd\n",
        "import numpy as np\n",
        "from scipy.sparse import coo_matrix\n",
        "\n",
        "np.random.seed(0)\n",
        "\n",
        "data_df = pd.read_csv('./ratings.dat', sep='::', names=[\"UserID\", \"MovieID\", \"Rating\", \"Timestamp\"], engine='python')\n",
        "\n",
        "# First, generate dictionaries for mapping old id to new id for users and movies\n",
        "unique_MovieID = data_df['MovieID'].unique()\n",
        "unique_UserID = data_df['UserID'].unique()\n",
        "j = 0\n",
        "user_old2new_id_dict = dict()\n",
        "for u in unique_UserID:\n",
        "    user_old2new_id_dict[u] = j\n",
        "    j += 1\n",
        "j = 0\n",
        "movie_old2new_id_dict = dict()\n",
        "for i in unique_MovieID:\n",
        "    movie_old2new_id_dict[i] = j\n",
        "    j += 1\n",
        "    \n",
        "# Then, use the generated dictionaries to reindex UserID and MovieID in the data_df\n",
        "user_list = data_df['UserID'].values\n",
        "movie_list = data_df['MovieID'].values\n",
        "for j in range(len(data_df)):\n",
        "    user_list[j] = user_old2new_id_dict[user_list[j]]\n",
        "    movie_list[j] = movie_old2new_id_dict[movie_list[j]]\n",
        "data_df['UserID'] = user_list\n",
        "data_df['movieID'] = movie_list\n",
        "\n",
        "# generate train_df with 70% samples and test_df with 30% samples, and there should have no overlap between them.\n",
        "train_index = np.random.random(len(data_df)) <= 0.7\n",
        "train_df = data_df[train_index]\n",
        "test_df = data_df[~train_index]\n",
        "\n",
        "# generate train_mat and test_mat\n",
        "num_user = len(data_df['UserID'].unique())\n",
        "num_movie = len(data_df['MovieID'].unique())\n",
        "\n",
        "train_mat = coo_matrix((train_df['Rating'].values, (train_df['UserID'].values, train_df['MovieID'].values)), shape=(num_user, num_movie)).astype(float).toarray()\n",
        "test_mat = coo_matrix((test_df['Rating'].values, (test_df['UserID'].values, test_df['MovieID'].values)), shape=(num_user, num_movie)).astype(float).toarray()"
      ]
    },
    {
      "cell_type": "markdown",
      "metadata": {
        "id": "C-sEqkSHL77V"
      },
      "source": [
        "It is very easy to transfer the explicit datasets you already generated to implicit ones: here, you will consider the watching behavior as the implicit signal showing that the user is interested in a movie. Thus, you can use the same train_df and test_df for implicit recommendation experiment with 'Rating' column ignored. And for train_mat and test_mat, you need to make all ratings to be value 1 and keep 0 entries the same."
      ]
    },
    {
      "cell_type": "code",
      "execution_count": 4,
      "metadata": {
        "id": "Av77NlOLL77V"
      },
      "outputs": [],
      "source": [
        "# turn the explicit ratings to implicit feedback data\n",
        "train_mat = (train_mat > 0).astype(float)\n",
        "test_mat = (test_mat > 0).astype(float)"
      ]
    },
    {
      "cell_type": "markdown",
      "metadata": {
        "id": "mvun1WmYL77V"
      },
      "source": [
        "## Part 1a: Build the non-personalized recommender (10 points)\n",
        "\n",
        "In this part, you need to build a non-personalized recommendation model to provide a ranked list of 50 movies as the recommendation for each user. The model is very simple: for each user, the recommendation list is to rank the unwatched movies by their **popularity**, where the popularity is the number of implicit feedback each movie gets. In this case, although it is non-personalized recommender, the recommendation results may be different for users because the unwatched movies are different across users.\n",
        "\n",
        "In the next cell, write your code to generate the ranked lists of movies by the popularity based recommendation algorithm for every user, store the result in a numpy array of size (#user, 50), entry (u, k) represents the movie id that is ranked at position k in the recommendation list to user u. Print out the top-5 recommended movies and their popularity for the first user (with id 0).\n",
        "\n",
        "Hint: the popularity can only be calculated from train_mat, you cannot use test_mat here. "
      ]
    },
    {
      "cell_type": "code",
      "execution_count": 13,
      "metadata": {
        "colab": {
          "base_uri": "https://localhost:8080/"
        },
        "id": "l9rcPRfhL77V",
        "outputId": "01be1931-f7ed-4815-99ad-129da32d3e96"
      },
      "outputs": [
        {
          "output_type": "stream",
          "name": "stdout",
          "text": [
            "ID\tPopularity\n",
            "104\t2423\n",
            "124\t2086\n",
            "64\t2064\n",
            "113\t1862\n",
            "97\t1845\n"
          ]
        }
      ],
      "source": [
        "# Generate a ranked list of movies by the popularity based recommendation algorithm. And print out the id and popularity of the top5 movies for the first user.\n",
        "# Your Code Here...\n",
        "popularity = np.sum(train_mat, axis=0, dtype=int)\n",
        "\n",
        "recommendation_non = np.empty((num_user, 50), dtype=int)\n",
        "\n",
        "for u in range(num_user):\n",
        "  rec_movie = np.where(train_mat[u, :] == 0)[0]\n",
        "  rec_score = popularity[rec_movie]\n",
        "  recommendation_non[u] = rec_movie[np.argsort(rec_score)][-50:][::-1]\n",
        "\n",
        "print(\"ID\\tPopularity\")\n",
        "for i in recommendation_non[0, :5]:\n",
        "  print(f\"{i}\\t{popularity[i]}\")"
      ]
    },
    {
      "cell_type": "markdown",
      "metadata": {
        "id": "WwzW8K6gL77V"
      },
      "source": [
        "## Part 1b: Evaluate the non-personalized recommender (10 points)\n",
        "\n",
        "In this part, you need to evaluate your non-personalized recommendation by the held-out testing dataset test_mat for each user. For the implicit recommendation, two typical metrics are recall@k and precision@k. Here, you need to write the code to calculate recall@k and  precision@k for k=5, 20, 50 for each user, i.e., six metrics for every user. And please print out the average over all users for these six metrics.\n",
        "\n",
        "Hint: if a user does not have any testing samples in test_mat, do not include this user in the final averaged metric.\n"
      ]
    },
    {
      "cell_type": "code",
      "execution_count": 22,
      "metadata": {
        "id": "f3I34QYzL77V"
      },
      "outputs": [],
      "source": [
        "# Calculate recall@k and precision@k with k=5, 20, 50 and print out the average over all users for these 9 metrics.\n",
        "# Your Code Here...\n",
        "\n",
        "def evaluation(test_mat, recommendation):\n",
        "  recall5 = np.zeros(num_user)\n",
        "  recall20 = np.zeros(num_user)\n",
        "  recall50 = np.zeros(num_user)\n",
        "  precision5 = np.zeros(num_user)\n",
        "  precision20 = np.zeros(num_user)\n",
        "  precision50 = np.zeros(num_user)\n",
        "  user = []\n",
        "\n",
        "  for u in range(test_mat.shape[0]):\n",
        "      test_pos = np.where(test_mat[u, :] > 0)[0]\n",
        "      test_num = len(test_pos)\n",
        "      if test_num:\n",
        "        user.append(u)\n",
        "        rec_u = recommendation[u]\n",
        "        for i, m in enumerate(rec_u):\n",
        "          if m in test_pos:\n",
        "            if i < 5:\n",
        "              recall5[u] += 1\n",
        "              precision5[u] += 1\n",
        "            if i < 20:\n",
        "              recall20[u] += 1\n",
        "              precision20[u] += 1\n",
        "            if i < 50:\n",
        "              recall50[u] += 1\n",
        "              precision50[u] += 1\n",
        "        recall5[u] /= test_num\n",
        "        recall20[u] /= test_num\n",
        "        recall50[u] /= test_num\n",
        "        precision5[u] /= 5\n",
        "        precision20[u] /= 20\n",
        "        precision50[u] /= 50\n",
        "  \n",
        "  avg_recall5 = recall5[user].sum()/len(user)\n",
        "  avg_recall20 = recall20[user].sum()/len(user)\n",
        "  avg_recall50 = recall50[user].sum()/len(user)\n",
        "  avg_precision5 = precision5[user].sum()/len(user)\n",
        "  avg_precision20 = precision20[user].sum()/len(user)\n",
        "  avg_precision50 = precision50[user].sum()/len(user)\n",
        "\n",
        "  print('recall@5\\t[%.6f],\\t||\\t recall@20\\t[%.6f],\\t||\\t recall@50\\t[%.6f]' % (avg_recall5, avg_recall20, avg_recall50))\n",
        "  print('precision@5\\t[%.6f],\\t||\\t precision@20\\t[%.6f],\\t||\\t precision@50\\t[%.6f]' % (avg_precision5, avg_precision20, avg_precision50))\n",
        "  print('')\n"
      ]
    },
    {
      "cell_type": "code",
      "execution_count": 23,
      "metadata": {
        "colab": {
          "base_uri": "https://localhost:8080/"
        },
        "id": "aq0bdKS4Um-4",
        "outputId": "54b31142-df3b-4c12-823b-674d2edc2da2"
      },
      "outputs": [
        {
          "output_type": "stream",
          "name": "stdout",
          "text": [
            "recall@5\t[0.037861],\t||\t recall@20\t[0.108553],\t||\t recall@50\t[0.193615]\n",
            "precision@5\t[0.273013],\t||\t precision@20\t[0.210389],\t||\t precision@50\t[0.157815]\n",
            "\n"
          ]
        }
      ],
      "source": [
        "evaluation(test_mat, recommendation_non)"
      ]
    },
    {
      "cell_type": "markdown",
      "metadata": {
        "id": "qxAu2Gi_fU7m"
      },
      "source": [
        "# Part 2. Build the Collaborative Filtering Model for Implicit Feedback (25 points)\n",
        "\n",
        "In this part, we will need to build **personalized** models instead of non-personalized models as in Part 1. We study how collaborative filtering algorithms work for recommendations with implicit feedback. The overall pipeline is the same as in Part 1. But now you need to implement a user-user collaborative filtering algorithm for recommendation. You will also evaluate your personalized models to compare them with the non-personalized one in Part 1.\n",
        "\n",
        "In this part, you will use the same MovieLens 1M dataset, and:\n",
        "\n",
        "* write the code to implement a user-user collaborative filtering algorithm,\n",
        "* and evaluate your recommender."
      ]
    },
    {
      "cell_type": "markdown",
      "metadata": {
        "id": "Rs9uZydYfU7k"
      },
      "source": [
        "First, we need to load and preprocess the experiment dataset. We still use the MovieLens 1M data from https://grouplens.org/datasets/movielens/1m/ in this part."
      ]
    },
    {
      "cell_type": "markdown",
      "metadata": {
        "id": "f4Y-6bhZfU7m"
      },
      "source": [
        "Then, you need to write code to implement a user-user collaborative filtering algorithm with **cosine similarity**. Although we have not discussed in class how to use collaborative filtering for implicit feedback, it is quite straightforward. \n",
        "\n",
        "* We first need to calculate the cosine similarity between users based on the binary feedback vectors of users; \n",
        "* Then, for a specific user $u$, we predict a preference vector for the user $u$ by weighted averaging the binary feedback vectors of N users who are most similar to $u$;\n",
        "* And last, rank the movies based on the predicted preference vector of the user $u$ as recommendations. \n",
        "\n",
        "The predicted preference score from user $u$ to movie $i$ can be calculated as: $p_{u,i}=\\frac{\\sum_{u^\\prime\\in N}s(u,u^\\prime)r_{u^\\prime,i}}{\\sum_{u^\\prime\\in N}|s(u,u^\\prime)|}$, where $s(u,u^\\prime)$ is the cosine similarity, and we set the size of $N$ as 10.\n",
        "\n",
        "In the next cell, write your code to generate the ranked lists of movies by this user-user collaborative filtering recommendation algorithm for every user, store the result in a numpy array of size (#user, 50), where entry (u, k) represents the movie id that is ranked at position k in the recommendation list to user u. \n",
        "\n",
        "* Hint: for a user $u$, the movies user $u$ liked in the train_mat should be excluded in the top 50 recommendation list"
      ]
    },
    {
      "cell_type": "code",
      "execution_count": 7,
      "metadata": {
        "id": "Dfh815eYfU7m"
      },
      "outputs": [],
      "source": [
        "# Your Code Here...\n",
        "N = 10\n",
        "cos_similarity = np.empty((num_user, N))\n",
        "similar_user = np.empty((num_user, N), dtype=int)\n",
        "\n",
        "for u in range(num_user):\n",
        "  s = np.inner(train_mat[u], train_mat) / (np.linalg.norm(train_mat[u]) * np.linalg.norm(train_mat, axis=1))\n",
        "  s[u] = float(\"-inf\")\n",
        "  similar_user[u] = np.argsort(s)[-10:]\n",
        "  cos_similarity[u] = s[similar_user[u]]\n",
        "\n",
        "\n",
        "recommendation_uucf = np.empty((num_user, 50), dtype=int)\n",
        "\n",
        "for u in range(num_user):\n",
        "  rec_movie = np.where(train_mat[u, :] == 0)[0]\n",
        "  rec_score = np.inner(cos_similarity[u], train_mat[similar_user[u], rec_movie.reshape(-1,1)]) / np.absolute(cos_similarity[u]).sum()\n",
        "  recommendation_uucf[u] = rec_movie[np.argsort(rec_score)][-50:][::-1]"
      ]
    },
    {
      "cell_type": "markdown",
      "metadata": {
        "id": "v73XLfN5fU7m"
      },
      "source": [
        "Last, you need to evaluate your user-user collaborative filtering algorithm by the held-out testing dataset test_mat for each user. Here, we use the same metrics recall@k and precision@k we used in Part 2c of Module 1. So you can use the same code here to calculate recall@k and precision@k for k=5, 20, 50 for each user, i.e., six metrics for every user. And please print out the average over all users for these six metrics."
      ]
    },
    {
      "cell_type": "code",
      "execution_count": 24,
      "metadata": {
        "colab": {
          "base_uri": "https://localhost:8080/"
        },
        "id": "-UI-iWnLfU7m",
        "outputId": "270aa95e-23de-465d-8f92-0f4c3d66c6bf"
      },
      "outputs": [
        {
          "output_type": "stream",
          "name": "stdout",
          "text": [
            "recall@5\t[0.070648],\t||\t recall@20\t[0.191710],\t||\t recall@50\t[0.321898]\n",
            "precision@5\t[0.378477],\t||\t precision@20\t[0.290886],\t||\t precision@50\t[0.221715]\n",
            "\n"
          ]
        }
      ],
      "source": [
        "# Calculate recall@k, precision@k with k=5, 20, 50 and print out the average over all users for these 6 metrics.\n",
        "# Your Code Here...\n",
        "evaluation(test_mat, recommendation_uucf)"
      ]
    },
    {
      "cell_type": "markdown",
      "metadata": {
        "id": "Bh07jVftmBAY"
      },
      "source": [
        "**Question (5 points):** do you observe a better result compared with models implemented in the previous part? What's reason do you think that brings this improvement?"
      ]
    },
    {
      "cell_type": "markdown",
      "metadata": {
        "id": "6en1Xna8mBAZ"
      },
      "source": [
        "Write your answer here:\n",
        "\n",
        "The result shows that the user-user collaborative filtering model perfoms better than the non-personalized recommender. This is because that people have their own taste in movies, but the non-personalized model only recommend movies based on the popularity. On the other hand, the UUCF model finds similar users and recommend movies based on their interest.\n",
        "\n",
        "|       | recall@5 | precision@5 | recall@20 | precision@20 | recall@50 | precision@50 |\n",
        "| --- | :-: | :-: | :-: | :-: | :-: | :-: |\n",
        "| Non-Personalized Recommender | 0.038 | 0.273 | 0.109 | 0.210 | 0.194 | 0.158 |\n",
        "| Collaborative Filtering Model | **0.071** | **0.378** | **0.192** | **0.291** | **0.322** | **0.222** |"
      ]
    },
    {
      "cell_type": "markdown",
      "metadata": {
        "id": "9Tl2tFlibnAY"
      },
      "source": [
        "# Part 3. Build the Matrix Factorization Model for Implicit Feedback (25 points)\n",
        "\n",
        "Now we turn to study how matrix factorization algorithms works for recommendations with implicit feedback. The overall pipeline is the same as in Part 1 and Part 2. But now you need to implement a matrix factorization algorithm for recommendation. You will also compare your matrix factorization model to the non-personalized one in Part 1 and collaborative filtering one in Part 2.\n",
        "\n",
        "In this part, you will use the same MovieLens 1M dataset, and:\n",
        "* write the code to implement a matrix factorization algorithm,\n",
        "* and evaluate your recommender."
      ]
    },
    {
      "cell_type": "markdown",
      "metadata": {
        "id": "XTLaMD2CbnAS"
      },
      "source": [
        "First, let's recap the matrix factorization model introduced in class. The MF model can be mathematically represented as: \n",
        "\n",
        "<center>$\\underset{\\mathbf{P},\\mathbf{Q}}{\\text{min}}\\,\\,L=\\sum_{(u,i)\\in\\mathcal{O}}(\\mathbf{P}_u\\cdot\\mathbf{Q}^\\top_i-r_{u,i})^2+\\lambda(\\lVert\\mathbf{P}\\rVert^2_{\\text{F}}+\\lVert\\mathbf{Q}\\rVert^2_{\\text{F}})$,</center>\n",
        "    \n",
        "where $\\mathbf{P}$ is the user latent factor matrix of size (#user, #latent); $\\mathbf{Q}$ is the movie latent factor matrix of size (#movie, #latent); $\\mathcal{O}$ is a user-movie pair set containing all user-movie pairs having ratings in train_mat; $r_{u,i}$ represents the rating for user u and movie i; $\\lambda(\\lVert\\mathbf{P}\\rVert^2_{\\text{F}}+\\lVert\\mathbf{Q}\\rVert^2_{\\text{F}})$ is the regularization term to overcome overfitting problem, $\\lambda$ is the regularization weight (a hyper-parameter manually set by developer, i.e., you), and $\\lVert\\mathbf{P}\\rVert^2_{\\text{F}}=\\sum_{x}\\sum_{y}(\\mathbf{P}_{x,y})^2$, $\\lVert\\mathbf{Q}\\rVert^2_{\\text{F}}=\\sum_{x}\\sum_{y}(\\mathbf{Q}_{x,y})^2$. Such an L function is called the **loss function** for the matrix factorization model. The goal of training an MF model is to find appropriate $\\mathbf{P}$ and $\\mathbf{Q}$ to minimize the loss L."
      ]
    },
    {
      "cell_type": "markdown",
      "metadata": {
        "id": "Po4byk_1bnAZ"
      },
      "source": [
        "Although we have not discussed in class how to use matrix factorization algorithm for implicit feedback, it is quite straightforward. The main idea is the same as the MF model for explicit ratings. But instead of predicting explicit ratings, here the MF is to predict binary ratings based on which movies are ranked for users.\n",
        "\n",
        "The only challenge now is that in an implicit feedback dataset, there is only positive signal (i.e., '1' in the train_mat) without negative signal. Hence, to let our MF work for this implicit feedback, a simple but powerful method -- random negative sampling -- is adopted. The main idea is that in each training epoch, we randomly sample user-movie pairs without positive feedback in train_mat (user-movie pairs with '0' in train_mat) to be negative feedback, and mix them with positive feedback as the training data to train the MF model. The **negative sampling method is already provided**."
      ]
    },
    {
      "cell_type": "markdown",
      "metadata": {
        "id": "i-YYpBikbnAZ"
      },
      "source": [
        "In the Next cell, you need to complete the MF_implicit class. There are five functions in this class: \n",
        "\n",
        "* 'init' (**provided**) is to initialize the variables the MF class needs, which takes 5 inputs: train_mat, test_mat, latent, lr, and reg. 'train_mat' and 'test_mat' are the corresponfing training and testing matrices we have. 'latent' represents the latent dimension we set for the MF model. 'lr' represents the learning rate, i.e., the update step in each optimization iteration, default is 0.01. 'reg' represents the regularization weight, i.e., the $\\lambda$ in the MF formulation. \n",
        "\n",
        "* 'negative_sampling' (**provided**) is to do the random negative sampling to generate negative signals for training the MF. It returns a list of users and a list of movies as the training samples, mixing positive and negative user-movie pairs.\n",
        "\n",
        "* 'test' (**provided**) is to evaluate the trained MF on test_mat and print out recall@k and precision@k. \n",
        "\n",
        "* 'predict' (**need to be completed**) is to generate the ranked lists of movies by the trained MF for every user, store the ranking result (named 'recommendation') in a numpy array of size (#user, 50), where entry (u, k) represents the movie id that is ranked at position k in the recommendation list to user u. Return the 'recommendation' variable. \n",
        "\n",
        "* 'train' (**need to be completed**) is to train the MF model. There is only one input to this function: an int variable 'epoch' to indicate how many epochs for training the model. The main logic of this function is the same as the one you already implemented in Part 1a. The main body of this function should be a loop for 'epoch' iterations. In each iteration, following the algorithm to update the MF model:\n",
        "\n",
        "        1. Call 'negative_sampling()' to generate a list of users and a list of movies mixing positive and negative user-movie pairs as training samples.\n",
        "        2. Randomly shuffle training user-movie pairs  (i.e., user-movie pairs from step 1)\n",
        "        2. Have an inner loop to iterate each user-movie pair:\n",
        "                a. given a user-movie pair (u,i), update the user latent factor and movie latent factor by gradient decsent:    \n",
        "<center>$\\mathbf{P}_u=\\mathbf{P}_u-\\gamma [2(\\mathbf{P}_u\\cdot\\mathbf{Q}_i^\\top-r_{u,i})\\cdot\\mathbf{Q}_i+2\\lambda\\mathbf{P}_u]$</center>    \n",
        "<center>$\\mathbf{Q}_i=\\mathbf{Q}_i-\\gamma [2(\\mathbf{P}_u\\cdot\\mathbf{Q}_i^\\top-r_{u,i})\\cdot\\mathbf{P}_u+2\\lambda\\mathbf{Q}_i]$</center>    \n",
        "<center>where $\\mathbf{P}_u$ and $\\mathbf{Q}_i$ are row vectors of size (1, #latent), $\\gamma$ is learning rate (default is 0.01), $\\lambda$ is regularization weight, and $r_{u,i}$ now takes binary value.</center>\n",
        "        \n",
        "        3. After iterating over all user-movie pairs, call 'test()' to evaluate the current MF model.\n",
        "\n",
        "**Note: you are not supposed to delete or modify the provided code.**\n",
        "\n",
        "**Note: for this part, it is necessary to read and understand the provided code, because you will need to call the provided functions in your code.**"
      ]
    },
    {
      "cell_type": "code",
      "execution_count": null,
      "metadata": {
        "id": "NCQi55FTbnAa"
      },
      "outputs": [],
      "source": [
        "class MF_implicit:\n",
        "    def __init__(self, train_mat, test_mat, latent=5, lr=0.01, reg=0.01):\n",
        "        self.train_mat = train_mat  # the training rating matrix of size (#user, #movie)\n",
        "        self.test_mat = test_mat  # the training rating matrix of size (#user, #movie)\n",
        "        \n",
        "        self.latent = latent  # the latent dimension\n",
        "        self.lr = lr  # learning rate\n",
        "        self.reg = reg  # regularization weight, i.e., the lambda in the objective function\n",
        "        \n",
        "        self.num_user, self.num_movie = train_mat.shape\n",
        "        \n",
        "        self.sample_user, self.sample_movie = self.train_mat.nonzero()  # get the user-movie paris having ratings in train_mat\n",
        "        self.num_sample = len(self.sample_user)  # the number of user-movie pairs having ratings in train_mat\n",
        "\n",
        "        self.user_test_like = []\n",
        "        for u in range(self.num_user):\n",
        "            self.user_test_like.append(np.where(self.test_mat[u, :] > 0)[0])\n",
        "\n",
        "        self.P = np.random.random((self.num_user, self.latent))  # latent factors for users, size (#user, self.latent), randomly initialized\n",
        "        self.Q = np.random.random((self.num_movie, self.latent))  # latent factors for users, size (#movie, self.latent), randomly initialized\n",
        "        \n",
        "    def negative_sampling(self):\n",
        "        negative_movie = np.random.choice(np.arange(self.num_movie), size=(len(self.sample_user)), replace=True)\n",
        "        true_negative = self.train_mat[self.sample_user, negative_movie] == 0\n",
        "        negative_user = self.sample_user[true_negative]\n",
        "        negative_movie = negative_movie[true_negative]\n",
        "        return np.concatenate([self.sample_user, negative_user]), np.concatenate([self.sample_movie, negative_movie])\n",
        "\n",
        "    def train(self, epoch=20):\n",
        "        \"\"\"\n",
        "        Goal: Write your code to train your matrix factorization model for epoch iterations in this function\n",
        "        Input: epoch -- the number of training epoch \n",
        "        \"\"\"\n",
        "        for ep in range(epoch):\n",
        "            \"\"\" \n",
        "            Write your code here to implement the training process for one epoch, \n",
        "            at the end of each epoch, run self.test() to evaluate current version of MF.\n",
        "            \"\"\"\n",
        "            train_user, train_movie = self.negative_sampling()\n",
        "            shuffle = np.arange(train_user.shape[0])\n",
        "            np.random.shuffle(shuffle)\n",
        "\n",
        "            for idx in shuffle:\n",
        "              u = train_user[idx]\n",
        "              i = train_movie[idx]\n",
        "              pu = self.P[u]\n",
        "              qi = self.Q[i]\n",
        "              r = 1 if idx < self.num_sample else 0\n",
        "              self.P[u] = pu - self.lr * (2 * (np.inner(pu, qi) - r) * qi + 2 * self.reg * pu)\n",
        "              self.Q[i] = qi - self.lr * (2 * (np.inner(pu, qi) - r) * pu + 2 * self.reg * qi)\n",
        "            \n",
        "            print(f\"epoch = {ep+1} ======================\\n\")\n",
        "            self.test()\n",
        "            \"\"\"\n",
        "            End of your code for this function\n",
        "            \"\"\"\n",
        "            \n",
        "    def predict(self):\n",
        "        \"\"\"\n",
        "        Write your code here to implement the prediction function, which generates the ranked lists of movies \n",
        "        by the trained MF for every user, store the result (named 'recommendation') in a numpy array of size (#user, 50), where entry (u, k) \n",
        "        represents the movie id that is ranked at position k in the recommendation list to user u. Return the 'recommendation' variable. \n",
        "        \"\"\"\n",
        "        recommendation = np.empty((self.num_user, 50), dtype=int)\n",
        "        for u in range(self.num_user):\n",
        "          rec_movie = np.where(self.train_mat[u] == 0)[0]\n",
        "          rec_score = np.inner(self.P[u], self.Q[rec_movie])\n",
        "          recommendation[u] = rec_movie[np.argsort(rec_score)][-50:][::-1]\n",
        "        \n",
        "        \"\"\"\n",
        "        End of your code for this function\n",
        "        \"\"\"\n",
        "        return recommendation\n",
        "    \n",
        "    def test(self):\n",
        "        recommendation = self.predict()\n",
        "\n",
        "        recalls = np.zeros(3)\n",
        "        precisions = np.zeros(3)\n",
        "        user_count = 0.\n",
        "\n",
        "        for u in range(self.num_user):\n",
        "            test_like = self.user_test_like[u]\n",
        "            test_like_num = len(test_like)\n",
        "            if test_like_num == 0:\n",
        "                continue\n",
        "            rec = recommendation[u, :]\n",
        "            hits = np.zeros(3)\n",
        "            for k in range(50):\n",
        "                if rec[k] in test_like:\n",
        "                    if k < 50:\n",
        "                        hits[2] += 1\n",
        "                        if k < 20:\n",
        "                            hits[1] += 1\n",
        "                            if k < 5:\n",
        "                                hits[0] += 1\n",
        "            recalls[0] += (hits[0] / test_like_num)\n",
        "            recalls[1] += (hits[1] / test_like_num)\n",
        "            recalls[2] += (hits[2] / test_like_num)\n",
        "            precisions[0] += (hits[0] / 5.)\n",
        "            precisions[1] += (hits[1] / 20.)\n",
        "            precisions[2] += (hits[2] / 50.)\n",
        "            user_count += 1\n",
        "\n",
        "        recalls /= user_count\n",
        "        precisions /= user_count\n",
        "\n",
        "        print('recall@5\\t[%.6f],\\t||\\t recall@20\\t[%.6f],\\t||\\t recall@50\\t[%.6f]' % (recalls[0], recalls[1], recalls[2]))\n",
        "        print('precision@5\\t[%.6f],\\t||\\t precision@20\\t[%.6f],\\t||\\t precision@50\\t[%.6f]' % (precisions[0], precisions[1], precisions[2]))\n",
        "        print('')"
      ]
    },
    {
      "cell_type": "markdown",
      "metadata": {
        "id": "GK9lahvXbnAa"
      },
      "source": [
        "Now, run the next cell to build and train your implemented MF model for implicit feedback. The expected time used for training one epoch is 20s to 2 min."
      ]
    },
    {
      "cell_type": "code",
      "execution_count": null,
      "metadata": {
        "colab": {
          "base_uri": "https://localhost:8080/"
        },
        "id": "l1K6sLgEbnAa",
        "outputId": "897818e1-5603-4f0a-ac93-342e2e7db506"
      },
      "outputs": [
        {
          "output_type": "stream",
          "name": "stdout",
          "text": [
            "epoch = 1 ======================\n",
            "\n",
            "recall@5\t[0.012405],\t||\t recall@20\t[0.052740],\t||\t recall@50\t[0.129528]\n",
            "precision@5\t[0.134503],\t||\t precision@20\t[0.132765],\t||\t precision@50\t[0.122854]\n",
            "\n",
            "epoch = 2 ======================\n",
            "\n",
            "recall@5\t[0.022735],\t||\t recall@20\t[0.079082],\t||\t recall@50\t[0.161196]\n",
            "precision@5\t[0.206325],\t||\t precision@20\t[0.174851],\t||\t precision@50\t[0.143338]\n",
            "\n",
            "epoch = 3 ======================\n",
            "\n",
            "recall@5\t[0.030400],\t||\t recall@20\t[0.090201],\t||\t recall@50\t[0.173676]\n",
            "precision@5\t[0.239470],\t||\t precision@20\t[0.187003],\t||\t precision@50\t[0.148891]\n",
            "\n",
            "epoch = 4 ======================\n",
            "\n",
            "recall@5\t[0.025901],\t||\t recall@20\t[0.091360],\t||\t recall@50\t[0.176319]\n",
            "precision@5\t[0.220364],\t||\t precision@20\t[0.192988],\t||\t precision@50\t[0.151063]\n",
            "\n",
            "epoch = 5 ======================\n",
            "\n",
            "recall@5\t[0.030409],\t||\t recall@20\t[0.093244],\t||\t recall@50\t[0.177132]\n",
            "precision@5\t[0.247450],\t||\t precision@20\t[0.197757],\t||\t precision@50\t[0.154858]\n",
            "\n",
            "epoch = 6 ======================\n",
            "\n",
            "recall@5\t[0.027048],\t||\t recall@20\t[0.087719],\t||\t recall@50\t[0.179897]\n",
            "precision@5\t[0.228212],\t||\t precision@20\t[0.197599],\t||\t precision@50\t[0.163868]\n",
            "\n",
            "epoch = 7 ======================\n",
            "\n",
            "recall@5\t[0.028262],\t||\t recall@20\t[0.094631],\t||\t recall@50\t[0.185765]\n",
            "precision@5\t[0.253510],\t||\t precision@20\t[0.211912],\t||\t precision@50\t[0.171175]\n",
            "\n",
            "epoch = 8 ======================\n",
            "\n",
            "recall@5\t[0.030780],\t||\t recall@20\t[0.098396],\t||\t recall@50\t[0.193234]\n",
            "precision@5\t[0.261788],\t||\t precision@20\t[0.220571],\t||\t precision@50\t[0.179801]\n",
            "\n",
            "epoch = 9 ======================\n",
            "\n",
            "recall@5\t[0.032006],\t||\t recall@20\t[0.103453],\t||\t recall@50\t[0.202625]\n",
            "precision@5\t[0.275033],\t||\t precision@20\t[0.227889],\t||\t precision@50\t[0.185341]\n",
            "\n",
            "epoch = 10 ======================\n",
            "\n",
            "recall@5\t[0.032613],\t||\t recall@20\t[0.105512],\t||\t recall@50\t[0.209406]\n",
            "precision@5\t[0.278444],\t||\t precision@20\t[0.231796],\t||\t precision@50\t[0.190046]\n",
            "\n",
            "epoch = 11 ======================\n",
            "\n",
            "recall@5\t[0.032380],\t||\t recall@20\t[0.106680],\t||\t recall@50\t[0.213998]\n",
            "precision@5\t[0.275166],\t||\t precision@20\t[0.232127],\t||\t precision@50\t[0.191930]\n",
            "\n",
            "epoch = 12 ======================\n",
            "\n",
            "recall@5\t[0.034342],\t||\t recall@20\t[0.111122],\t||\t recall@50\t[0.219376]\n",
            "precision@5\t[0.281060],\t||\t precision@20\t[0.237533],\t||\t precision@50\t[0.195119]\n",
            "\n",
            "epoch = 13 ======================\n",
            "\n",
            "recall@5\t[0.034803],\t||\t recall@20\t[0.113062],\t||\t recall@50\t[0.222200]\n",
            "precision@5\t[0.282815],\t||\t precision@20\t[0.237881],\t||\t precision@50\t[0.195308]\n",
            "\n",
            "epoch = 14 ======================\n",
            "\n",
            "recall@5\t[0.035472],\t||\t recall@20\t[0.114765],\t||\t recall@50\t[0.226697]\n",
            "precision@5\t[0.285132],\t||\t precision@20\t[0.240348],\t||\t precision@50\t[0.197235]\n",
            "\n",
            "epoch = 15 ======================\n",
            "\n",
            "recall@5\t[0.035530],\t||\t recall@20\t[0.116367],\t||\t recall@50\t[0.230852]\n",
            "precision@5\t[0.282682],\t||\t precision@20\t[0.238700],\t||\t precision@50\t[0.197917]\n",
            "\n",
            "epoch = 16 ======================\n",
            "\n",
            "recall@5\t[0.037598],\t||\t recall@20\t[0.118909],\t||\t recall@50\t[0.232854]\n",
            "precision@5\t[0.292384],\t||\t precision@20\t[0.243295],\t||\t precision@50\t[0.198944]\n",
            "\n",
            "epoch = 17 ======================\n",
            "\n",
            "recall@5\t[0.037204],\t||\t recall@20\t[0.119869],\t||\t recall@50\t[0.236222]\n",
            "precision@5\t[0.287318],\t||\t precision@20\t[0.241995],\t||\t precision@50\t[0.199126]\n",
            "\n",
            "epoch = 18 ======================\n",
            "\n",
            "recall@5\t[0.037107],\t||\t recall@20\t[0.120109],\t||\t recall@50\t[0.239105]\n",
            "precision@5\t[0.285662],\t||\t precision@20\t[0.242906],\t||\t precision@50\t[0.200679]\n",
            "\n",
            "epoch = 19 ======================\n",
            "\n",
            "recall@5\t[0.037804],\t||\t recall@20\t[0.121961],\t||\t recall@50\t[0.240288]\n",
            "precision@5\t[0.287417],\t||\t precision@20\t[0.243700],\t||\t precision@50\t[0.200818]\n",
            "\n",
            "epoch = 20 ======================\n",
            "\n",
            "recall@5\t[0.038186],\t||\t recall@20\t[0.122719],\t||\t recall@50\t[0.241442]\n",
            "precision@5\t[0.289040],\t||\t precision@20\t[0.243369],\t||\t precision@50\t[0.200821]\n",
            "\n"
          ]
        }
      ],
      "source": [
        "mf_implicit = MF_implicit(train_mat, test_mat, latent=5, lr=0.01, reg=0.0001)\n",
        "mf_implicit.train(epoch=20)"
      ]
    },
    {
      "cell_type": "markdown",
      "metadata": {
        "id": "KA_IrnxJl961"
      },
      "source": [
        "**Question (5 points):** do you observe a better result compared with models implemented in previous two parts? What's reason do you think that brings this improvement?"
      ]
    },
    {
      "cell_type": "markdown",
      "metadata": {
        "id": "wxwdsGYel961"
      },
      "source": [
        "Write your answer here:\n",
        "\n",
        "The matrix factorization model performs better than non-personalized model. This is because the MF model recommends movies based on the latent factors whihch represent users' preference and items' genre.\n",
        "\n",
        "However, the MF model performs worse than the user-user collaborative filtering model. The reason might be that the negative sample chooses the movies that the user u is interested in. It would get low score because it is negative samelpe. The other reason might be the training epoches are not enough.\n",
        "\n",
        "|       | recall@5 | precision@5 | recall@20 | precision@20 | recall@50 | precision@50 |\n",
        "| --- | :-: | :-: | :-: | :-: | :-: | :-: |\n",
        "| Non-Personalized Recommender | 0.038 | 0.273 | 0.109 | 0.210 | 0.194 | 0.158 |\n",
        "| Collaborative Filtering Model | **0.071** | **0.378** | **0.192** | **0.291** | **0.322** | **0.222** |\n",
        "| Matrix Factorization Model | 0.038 | 0.289 | 0.123 | 0.243 | 0.241 | 0.201 |"
      ]
    },
    {
      "cell_type": "markdown",
      "metadata": {
        "id": "4PW9KO1gMD-e"
      },
      "source": [
        "# Part 4: Build the Bayesian Personalized Ranking (BPR) Model with Implicit Feedback (20 points)\n",
        "\n",
        "In this first part, you will need to build a **Bayesian Personalized Ranking (BPR)** model. You will also evaluate your BPR model to compare with the non-personalized one in Part 1, neighborhood-based collaborative filtering model in Part 2, and matrix factorization model in Part 3. \n",
        "\n",
        "For this part, we will:\n",
        "\n",
        "* build a BPR model,\n",
        "* and evaluate your recommender."
      ]
    },
    {
      "cell_type": "markdown",
      "metadata": {
        "id": "t-hWSeW5MD-e"
      },
      "source": [
        "We still use the MovieLens 1M data from https://grouplens.org/datasets/movielens/1m/ in this part, and use the same loading and preprocessing process."
      ]
    },
    {
      "cell_type": "markdown",
      "metadata": {
        "id": "MO69amdAMD-k"
      },
      "source": [
        "First, let's implement the Bayesian Personalized Ranking model introduced in class. The BPR model can be mathematically represented as: \n",
        "\n",
        "<center>$\\underset{\\mathbf{P},\\mathbf{Q}}{\\text{max}}\\,\\,L=\\sum_{(u,i,j)\\in\\mathcal{O}}\\sigma(\\mathbf{P}_u\\cdot\\mathbf{Q}^\\top_i-\\mathbf{P}_u\\cdot\\mathbf{Q}^\\top_j)+\\lambda(\\lVert\\mathbf{P}\\rVert^2_{\\text{F}}+\\lVert\\mathbf{Q}\\rVert^2_{\\text{F}})$,</center>\n",
        "    \n",
        "where $\\mathbf{P}$ is the user latent factor matrix of size (#user, #latent); $\\mathbf{Q}$ is the movie latent factor matrix of size (#movie, #latent); $\\sigma(\\cdot)$ is the Sigmoid function; $\\mathcal{O}$ is a (user, positive movie, negative movie) tuple set, and each tuple $(u,i,j)$ is a training sample with user $u$ and a posotive movie $i$ with value 1 in train_mat and a negative movie $j$ with value 0 in train_mat; $\\lambda(\\lVert\\mathbf{P}\\rVert^2_{\\text{F}}+\\lVert\\mathbf{Q}\\rVert^2_{\\text{F}})$ is the regularization term to overcome overfitting problem, $\\lambda$ is the regularization weight (a hyper-parameter manually set by the developer, i.e., you), and $\\lVert\\mathbf{P}\\rVert^2_{\\text{F}}=\\sum_{x}\\sum_{y}(\\mathbf{P}_{x,y})^2$, $\\lVert\\mathbf{Q}\\rVert^2_{\\text{F}}=\\sum_{x}\\sum_{y}(\\mathbf{Q}_{x,y})^2$. Such an L function is called the **loss function** for the matrix factorization model. The goal of training a BPR model is to find appropriate $\\mathbf{P}$ and $\\mathbf{Q}$ to **maximize** the loss L."
      ]
    },
    {
      "cell_type": "markdown",
      "metadata": {
        "id": "2kpemLFvMD-l"
      },
      "source": [
        "To implement such a BPR model, here we will write a Python class for the model. Similar to the implicit_MF model you have already implemented in Part 3, there are five functions in this BPR class: \n",
        "\n",
        "* The 'init' function (**provided**) is to initialize the variables the BPR class needs, which takes 5 inputs: train_mat, test_mat, latent, lr, and reg. 'train_mat' and 'test_mat' are the corresponfing training and testing matrices we have. 'latent' represents the latent dimension we set for the BPR model. 'lr' represents the learning rate, i.e., the update step in each optimization iteration, default is 0.01. 'reg' represents the regularization weight, i.e., the $\\lambda$ in the BPR formulation.\n",
        "\n",
        "* 'negative_sampling' (**provided**) is to do the random negative sampling to generate negative signals for training the BPR. It returns a list of users, a list of positive movies of these users, and a list of negative movies of these user. These three lists form the training set $\\mathcal{O}$.\n",
        "\n",
        "* 'test' (**provided**) is to evaluate the trained MF on test_mat and print out recall@k and precision@k. \n",
        "\n",
        "* 'predict' (**provided**) is to generates the ranked lists of movies by the trained MF for every user, store the ranking result (named 'recommendation') in a numpy array of size (#user, 50), where entry (u, k) represents the movie id that is ranked at position k in the recommendation list to user u. Return the 'recommendation' variable. \n",
        "\n",
        "* 'train' (**need to be completed**) is to train the BPR model. There is only one input to this function: an int variable 'epoch' to indicate how many epochs for training the model. The main process of one training epoch is:\n",
        "\n",
        "        1. Call 'negative_sampling()' to generate training samples: a list of users, a list of positive movies of these users, and a list of negative movies of these users.\n",
        "        2. Randomly shuffle training samples from step 1.\n",
        "        3. Have an inner loop to iterate each (user, positive movie, negative movie) tuple in the shuffled training samples:\n",
        "                a. given the current training tuple -- a user u, a positive movie i, and a negative movie j, update the user latent factor and movie latent factor by gradient decsent:\n",
        "<center>$\\mathbf{P}_u=\\mathbf{P}_u - \\gamma[-\\frac{e^{-\\widehat{x}}}{1 + e^{-\\widehat{x}}} (\\mathbf{Q}_i - \\mathbf{Q}_j) + \\lambda\\mathbf{P}_u]$</center>\n",
        "<center>$\\mathbf{Q}_i=\\mathbf{Q}_i - \\gamma[-\\frac{e^{-\\widehat{x}}}{1 + e^{-\\widehat{x}}} \\mathbf{P}_U + \\lambda\\mathbf{Q}_i]$</center>\n",
        "<center>$\\mathbf{Q}_j=\\mathbf{Q}_j - \\gamma[\\frac{e^{-\\widehat{x}}}{1 + e^{-\\widehat{x}}} \\mathbf{P}_U + \\lambda\\mathbf{Q}_j]$</center>   \n",
        "<center>where $\\mathbf{P}_u$, $\\mathbf{Q}_i$, and $\\mathbf{Q}_j$ are of size (1, #latent), $\\gamma$ is learning rate (default is 0.01), $\\lambda$ is regularization weight, and $\\widehat{x}=\\mathbf{P}_u\\cdot\\mathbf{Q}^\\top_i-\\mathbf{P}_u\\cdot\\mathbf{Q}^\\top_j$.</center>\n",
        "        \n",
        "        3. After iterate all training samples, call 'test()' to evaluate the current BPR model.\n"
      ]
    },
    {
      "cell_type": "markdown",
      "metadata": {
        "id": "lYQmt-3wMD-l"
      },
      "source": [
        "In the next cell, you will need to fill in the 'train' function based on the description above. \n",
        "\n",
        "*Hint that similar to the training process of MF in Part 3, in each update iteration, you need to use the old P and Q from last update iteration to update P and Q in current update iteration.\n",
        "\n",
        "**NOTE that you should not delete or modify the provided code.**"
      ]
    },
    {
      "cell_type": "code",
      "execution_count": null,
      "metadata": {
        "id": "R7oKJUR9MD-l"
      },
      "outputs": [],
      "source": [
        "import math\n",
        "\n",
        "class BPR:\n",
        "    def __init__(self, train_mat, test_mat, latent=5, lr=0.01, reg=0.01):\n",
        "        self.train_mat = train_mat  # the training rating matrix of size (#user, #movie)\n",
        "        self.test_mat = test_mat  # the training rating matrix of size (#user, #movie)\n",
        "        \n",
        "        self.latent = latent  # the latent dimension\n",
        "        self.lr = lr  # learning rate\n",
        "        self.reg = reg  # regularization weight, i.e., the lambda in the objective function\n",
        "        \n",
        "        self.num_user, self.num_movie = train_mat.shape\n",
        "        \n",
        "        self.positive_user, self.positive_movie = self.train_mat.nonzero()  # get the user-movie paris having ratings in train_mat\n",
        "\n",
        "        self.user_test_like = []\n",
        "        for u in range(self.num_user):\n",
        "            self.user_test_like.append(np.where(self.test_mat[u, :] > 0)[0])\n",
        "\n",
        "        self.P = np.random.random((self.num_user, self.latent))  # latent factors for users, size (#user, self.latent), randomly initialized\n",
        "        self.Q = np.random.random((self.num_movie, self.latent))  # latent factors for users, size (#movie, self.latent), randomly initialized\n",
        "        \n",
        "    def negative_sampling(self): \n",
        "        # do the negative sampling for each of the positive user-movie pair. Here we set negative sampling rate as 2, \n",
        "        # i.e., for each positive user-movie pair, randomly sample two negative movies. \n",
        "        # This function returns final training data: a user list, a positive movie list, and a negative movie list\n",
        "        sample_user = np.tile(self.positive_user, 2)\n",
        "        sample_pos_movie = np.tile(self.positive_movie, 2)\n",
        "        sample_neg_movie = np.random.choice(np.arange(self.num_movie), size=(len(sample_user)), replace=True)\n",
        "        true_negative = self.train_mat[sample_user, sample_neg_movie] == 0\n",
        "        return sample_user[true_negative], sample_pos_movie[true_negative], sample_neg_movie[true_negative]\n",
        "\n",
        "    def train(self, epoch=20):\n",
        "        \"\"\"\n",
        "        Goal: Write your code to train your matrix factorization model for epoch iterations in this function\n",
        "        Input: epoch -- the number of training epoch \n",
        "        \"\"\"\n",
        "        for ep in range(epoch):\n",
        "            \"\"\" \n",
        "            Write your code here to implement the training process for one epoch, \n",
        "            at the end of each epoch, run self.test() to evaluate current version of BPR.\n",
        "            \"\"\"\n",
        "            sample_user, sample_pos_movie, sample_neg_movie, = self.negative_sampling()\n",
        "            shuffle = np.arange(sample_user.shape[0])\n",
        "            np.random.shuffle(shuffle)\n",
        "\n",
        "            for idx in shuffle:\n",
        "              u, i, j = sample_user[idx], sample_pos_movie[idx], sample_neg_movie[idx]\n",
        "              pu, qi, qj = self.P[u], self.Q[i], self.Q[j]\n",
        "              x = np.inner(pu, qi - qj)\n",
        "              dsig = math.exp(-x) / (1 + math.exp(-x))\n",
        "              self.P[u] = pu - self.lr * (-1 * dsig * (qi - qj) + self.reg * pu)\n",
        "              self.Q[i] = qi - self.lr * (-1 * dsig * pu + self.reg * qi)\n",
        "              self.Q[j] = qj - self.lr * (dsig * pu + self.reg * qj)\n",
        "\n",
        "            print(f\"epoch = {ep+1} ======================\\n\")\n",
        "            self.test()\n",
        "\n",
        "            \"\"\"\n",
        "            End of your code for this function\n",
        "            \"\"\"\n",
        "            \n",
        "    def predict(self):\n",
        "        # The prediction function, which generates the ranked lists of movies \n",
        "        # by the trained BPR for every user, store the result (named 'recommendation') in a numpy array of size (#user, 50), where entry (u, k) \n",
        "        # represents the movie id that is ranked at position k in the recommendation list to user u. Return the 'recommendation' variable. \n",
        "        prediction_mat = np.matmul(self.P, self.Q.T)\n",
        "        recommendation = []\n",
        "        for u in range(self.num_user):\n",
        "            scores = prediction_mat[u]\n",
        "            train_like = np.where(train_mat[u, :] > 0)[0]\n",
        "            scores[train_like] = -9999\n",
        "            top50_iid = np.argpartition(scores, -50)[-50:]\n",
        "            top50_iid = top50_iid[np.argsort(scores[top50_iid])[-1::-1]]\n",
        "            recommendation.append(top50_iid)\n",
        "        recommendation = np.array(recommendation)\n",
        "        return recommendation\n",
        "    \n",
        "    def test(self):\n",
        "        recommendation = self.predict()\n",
        "\n",
        "        recalls = np.zeros(3)\n",
        "        precisions = np.zeros(3)\n",
        "        user_count = 0.\n",
        "\n",
        "        for u in range(self.num_user):\n",
        "            test_like = self.user_test_like[u]\n",
        "            test_like_num = len(test_like)\n",
        "            if test_like_num == 0:\n",
        "                continue\n",
        "            rec = recommendation[u, :]\n",
        "            hits = np.zeros(3)\n",
        "            for k in range(50):\n",
        "                if rec[k] in test_like:\n",
        "                    if k < 50:\n",
        "                        hits[2] += 1\n",
        "                        if k < 20:\n",
        "                            hits[1] += 1\n",
        "                            if k < 5:\n",
        "                                hits[0] += 1\n",
        "            recalls[0] += (hits[0] / test_like_num)\n",
        "            recalls[1] += (hits[1] / test_like_num)\n",
        "            recalls[2] += (hits[2] / test_like_num)\n",
        "            precisions[0] += (hits[0] / 5.)\n",
        "            precisions[1] += (hits[1] / 20.)\n",
        "            precisions[2] += (hits[2] / 50.)\n",
        "            user_count += 1\n",
        "\n",
        "        recalls /= user_count\n",
        "        precisions /= user_count\n",
        "\n",
        "        print('recall@5\\t[%.6f],\\t||\\t recall@20\\t[%.6f],\\t||\\t recall@50\\t[%.6f]' % (recalls[0], recalls[1], recalls[2]))\n",
        "        print('precision@5\\t[%.6f],\\t||\\t precision@20\\t[%.6f],\\t||\\t precision@50\\t[%.6f]' % (precisions[0], precisions[1], precisions[2]))\n",
        "        print('')"
      ]
    },
    {
      "cell_type": "markdown",
      "metadata": {
        "id": "uvJRalhwMD-r"
      },
      "source": [
        "Now, let's train a BPR model based on your implementation. The code is provided, you just need to execute the next cell. The expectations are: \n",
        "\n",
        "* first, the code can be successfully executed without error; \n",
        "* and second, the recall@k and precision@k on **test_mat** of each training epoch should be printed out for all 20 epochs.\n",
        "\n",
        "\n",
        "* Hint: the expected time used for training is around 1 minute to 5 minutes per training epoch."
      ]
    },
    {
      "cell_type": "code",
      "execution_count": null,
      "metadata": {
        "colab": {
          "base_uri": "https://localhost:8080/"
        },
        "id": "T-q9CtdDMD-s",
        "outputId": "bed3bf34-3dbd-4b60-d84b-04efbe116860"
      },
      "outputs": [
        {
          "output_type": "stream",
          "name": "stdout",
          "text": [
            "epoch = 1 ======================\n",
            "\n",
            "recall@5\t[0.034968],\t||\t recall@20\t[0.105035],\t||\t recall@50\t[0.188376]\n",
            "precision@5\t[0.258477],\t||\t precision@20\t[0.206465],\t||\t precision@50\t[0.154798]\n",
            "\n",
            "epoch = 2 ======================\n",
            "\n",
            "recall@5\t[0.034815],\t||\t recall@20\t[0.105514],\t||\t recall@50\t[0.189177]\n",
            "precision@5\t[0.260166],\t||\t precision@20\t[0.206283],\t||\t precision@50\t[0.155222]\n",
            "\n",
            "epoch = 3 ======================\n",
            "\n",
            "recall@5\t[0.035541],\t||\t recall@20\t[0.105341],\t||\t recall@50\t[0.188762]\n",
            "precision@5\t[0.263278],\t||\t precision@20\t[0.206821],\t||\t precision@50\t[0.155361]\n",
            "\n",
            "epoch = 4 ======================\n",
            "\n",
            "recall@5\t[0.035530],\t||\t recall@20\t[0.105910],\t||\t recall@50\t[0.190542]\n",
            "precision@5\t[0.265099],\t||\t precision@20\t[0.207980],\t||\t precision@50\t[0.157023]\n",
            "\n",
            "epoch = 5 ======================\n",
            "\n",
            "recall@5\t[0.036079],\t||\t recall@20\t[0.106274],\t||\t recall@50\t[0.192402]\n",
            "precision@5\t[0.267384],\t||\t precision@20\t[0.210248],\t||\t precision@50\t[0.159563]\n",
            "\n",
            "epoch = 6 ======================\n",
            "\n",
            "recall@5\t[0.036504],\t||\t recall@20\t[0.107039],\t||\t recall@50\t[0.193903]\n",
            "precision@5\t[0.270728],\t||\t precision@20\t[0.212202],\t||\t precision@50\t[0.162331]\n",
            "\n",
            "epoch = 7 ======================\n",
            "\n",
            "recall@5\t[0.036495],\t||\t recall@20\t[0.108971],\t||\t recall@50\t[0.197809]\n",
            "precision@5\t[0.277119],\t||\t precision@20\t[0.218088],\t||\t precision@50\t[0.166421]\n",
            "\n",
            "epoch = 8 ======================\n",
            "\n",
            "recall@5\t[0.037021],\t||\t recall@20\t[0.111339],\t||\t recall@50\t[0.201020]\n",
            "precision@5\t[0.278907],\t||\t precision@20\t[0.221399],\t||\t precision@50\t[0.169632]\n",
            "\n",
            "epoch = 9 ======================\n",
            "\n",
            "recall@5\t[0.037501],\t||\t recall@20\t[0.112532],\t||\t recall@50\t[0.205322]\n",
            "precision@5\t[0.282947],\t||\t precision@20\t[0.225778],\t||\t precision@50\t[0.173881]\n",
            "\n",
            "epoch = 10 ======================\n",
            "\n",
            "recall@5\t[0.039108],\t||\t recall@20\t[0.113879],\t||\t recall@50\t[0.207829]\n",
            "precision@5\t[0.295530],\t||\t precision@20\t[0.230149],\t||\t precision@50\t[0.177669]\n",
            "\n",
            "epoch = 11 ======================\n",
            "\n",
            "recall@5\t[0.039926],\t||\t recall@20\t[0.116993],\t||\t recall@50\t[0.212928]\n",
            "precision@5\t[0.302020],\t||\t precision@20\t[0.234222],\t||\t precision@50\t[0.181652]\n",
            "\n",
            "epoch = 12 ======================\n",
            "\n",
            "recall@5\t[0.040257],\t||\t recall@20\t[0.118643],\t||\t recall@50\t[0.217794]\n",
            "precision@5\t[0.308311],\t||\t precision@20\t[0.239553],\t||\t precision@50\t[0.185735]\n",
            "\n",
            "epoch = 13 ======================\n",
            "\n",
            "recall@5\t[0.042094],\t||\t recall@20\t[0.121618],\t||\t recall@50\t[0.222695]\n",
            "precision@5\t[0.314040],\t||\t precision@20\t[0.244445],\t||\t precision@50\t[0.189742]\n",
            "\n",
            "epoch = 14 ======================\n",
            "\n",
            "recall@5\t[0.043405],\t||\t recall@20\t[0.124096],\t||\t recall@50\t[0.227682]\n",
            "precision@5\t[0.324371],\t||\t precision@20\t[0.249180],\t||\t precision@50\t[0.194033]\n",
            "\n",
            "epoch = 15 ======================\n",
            "\n",
            "recall@5\t[0.043865],\t||\t recall@20\t[0.126646],\t||\t recall@50\t[0.232363]\n",
            "precision@5\t[0.329636],\t||\t precision@20\t[0.254520],\t||\t precision@50\t[0.196695]\n",
            "\n",
            "epoch = 16 ======================\n",
            "\n",
            "recall@5\t[0.044501],\t||\t recall@20\t[0.128614],\t||\t recall@50\t[0.237305]\n",
            "precision@5\t[0.332384],\t||\t precision@20\t[0.257078],\t||\t precision@50\t[0.200076]\n",
            "\n",
            "epoch = 17 ======================\n",
            "\n",
            "recall@5\t[0.046355],\t||\t recall@20\t[0.131261],\t||\t recall@50\t[0.240760]\n",
            "precision@5\t[0.340298],\t||\t precision@20\t[0.260546],\t||\t precision@50\t[0.201987]\n",
            "\n",
            "epoch = 18 ======================\n",
            "\n",
            "recall@5\t[0.046411],\t||\t recall@20\t[0.133190],\t||\t recall@50\t[0.243745]\n",
            "precision@5\t[0.339073],\t||\t precision@20\t[0.262384],\t||\t precision@50\t[0.203397]\n",
            "\n",
            "epoch = 19 ======================\n",
            "\n",
            "recall@5\t[0.047290],\t||\t recall@20\t[0.134647],\t||\t recall@50\t[0.247921]\n",
            "precision@5\t[0.343344],\t||\t precision@20\t[0.263916],\t||\t precision@50\t[0.205026]\n",
            "\n",
            "epoch = 20 ======================\n",
            "\n",
            "recall@5\t[0.048200],\t||\t recall@20\t[0.137828],\t||\t recall@50\t[0.250164]\n",
            "precision@5\t[0.348079],\t||\t precision@20\t[0.267483],\t||\t precision@50\t[0.206136]\n",
            "\n"
          ]
        }
      ],
      "source": [
        "bpr = BPR(train_mat, test_mat, latent=5, lr=0.01, reg=0.001)\n",
        "bpr.train(epoch=20)"
      ]
    },
    {
      "cell_type": "markdown",
      "metadata": {
        "id": "Ptxnml0-MD-s"
      },
      "source": [
        "**Question (5 points):** do you observe a better result compared with models implemented in previous three parts? What's reason do you think that brings this improvement?"
      ]
    },
    {
      "cell_type": "markdown",
      "metadata": {
        "id": "Q0M28QNVMD-s"
      },
      "source": [
        "Write your answer here:\n",
        "\n",
        "It is no suprise that the bayesian personalized ranking model performs better than non-personalized recommender. This is because BPR considers the users' interest and items' genre.\n",
        "\n",
        "The result of BPR and the result of MF are close Also, BPR performs worse than the UUCF model. In my opion, the reason might be the assumption of BPR. The BPR model assumes that observed user-item pairs are preferred over unobserved user-item pairs. However, the user might be interested in that item.\n",
        "\n",
        "\n",
        "|       | recall@5 | precision@5 | recall@20 | precision@20 | recall@50 | precision@50 |\n",
        "| --- | :-: | :-: | :-: | :-: | :-: | :-: |\n",
        "| Non-Personalized Recommender | 0.038 | 0.273 | 0.109 | 0.210 | 0.194 | 0.158 |\n",
        "| Collaborative Filtering Model | **0.071** | **0.378** | **0.192** | **0.291** | **0.322** | **0.222** |\n",
        "| Matrix Factorization Model | 0.038 | 0.289 | 0.123 | 0.243 | 0.241 | 0.201 |\n",
        "| Bayesian Personalized Ranking | 0.048 | 0.348 | 0.138 | 0.267 | 0.250 | 0.206"
      ]
    },
    {
      "cell_type": "markdown",
      "metadata": {
        "id": "wKZ8ijNPTXMN"
      },
      "source": [
        "# Part 5. Cool Extension! (10 points)\n",
        "\n",
        "Just like in the first homework, now is your chance to try an interesting extension. "
      ]
    },
    {
      "cell_type": "markdown",
      "metadata": {
        "id": "lGwbr1TZBT7n"
      },
      "source": [
        "According to the above results, the user-user collaborative filtering model gets the best recall and the best precision. Therefore, I bulit a hybrid model which combines UUCF and MF. I used the P matrix and the Q matrix in MF model and the cosine similarity in UUCF. The recommend score is:\n",
        "\n",
        "<center>$p_{u,i}=w \\cdot P_u \\cdot Q^\\top_i + (1-w)\\frac{\\sum_{u^\\prime\\in N}s(u,u^\\prime)P{u^\\prime} \\cdot Q^\\top_i }{\\sum_{u^\\prime\\in N}|s(u,u^\\prime)|}$</center>\n",
        "\n",
        "$w$ is the weight, and $w = 0.6$ in my implementation. \n",
        "\n",
        "The result below shows that the model which combines UUCF and MF performs better than the origin MF model.\n",
        "\n",
        "\n",
        "|       | recall@5 | precision@5 | recall@20 | precision@20 | recall@50 | precision@50 |\n",
        "| --- | :-: | :-: | :-: | :-: | :-: | :-: |\n",
        "| Non-Personalized Recommender | 0.038 | 0.273 | 0.109 | 0.210 | 0.194 | 0.158 |\n",
        "| Collaborative Filtering Model | **0.071** | **0.378** | **0.192** | **0.291** | **0.322** | **0.222** |\n",
        "| Matrix Factorization Model | 0.038 | 0.289 | 0.123 | 0.243 | 0.241 | 0.201 |\n",
        "| Bayesian Personalized Ranking | 0.048 | 0.348 | 0.138 | 0.267 | 0.250 | 0.206\n",
        "| MF + UUCF | 0.046 | 0.322 | 0.140 | 0.262 | 0.263 | 0.211"
      ]
    },
    {
      "cell_type": "code",
      "execution_count": null,
      "metadata": {
        "colab": {
          "base_uri": "https://localhost:8080/"
        },
        "id": "Cz2kdFcYyBo0",
        "outputId": "d151e0ed-99ab-4329-d81c-8aa480d8cb1e"
      },
      "outputs": [
        {
          "output_type": "stream",
          "name": "stdout",
          "text": [
            "recall@5\t[0.046295],\t||\t recall@20\t[0.139535],\t||\t recall@50\t[0.262500]\n",
            "precision@5\t[0.321523],\t||\t precision@20\t[0.262401],\t||\t precision@50\t[0.210791]\n",
            "\n"
          ]
        }
      ],
      "source": [
        "P = mf_implicit.P\n",
        "Q = mf_implicit.Q\n",
        "recommendation_mf_uucf = np.empty((num_user, 50), dtype=int)\n",
        "for u in range(num_user):\n",
        "  rec_movie = np.where(train_mat[u, :] == 0)[0]\n",
        "  rec_score = np.inner(P[u], Q[rec_movie])\n",
        "  uu_score = np.inner(P[similar_user[u]], Q[rec_movie])\n",
        "  uu_score = np.matmul(cos_similarity[u], uu_score) / np.absolute(cos_similarity[u]).sum()\n",
        "  rec_score = 0.6 * rec_score + 0.4 * uu_score\n",
        "  recommendation_mf_uucf[u] = rec_movie[np.argsort(rec_score)][-50:][::-1]\n",
        "evaluation(test_mat, recommendation_mf_uucf)"
      ]
    },
    {
      "cell_type": "markdown",
      "metadata": {
        "id": "cWKpnX8DfU7j"
      },
      "source": [
        "# Collaboration Declarations"
      ]
    },
    {
      "cell_type": "markdown",
      "metadata": {
        "id": "Kg5RckUJfU7j"
      },
      "source": [
        "** You should fill out your collaboration declarations here.**\n",
        "\n",
        "**Reminder:** You are expected to complete each homework independently. Your solution should be written by you without the direct aid or help of anyone else. However, we believe that collaboration and team work are important for facilitating learning, so we encourage you to discuss problems and general problem approaches (but not actual solutions) with your classmates. You may post on Piazza, search StackOverflow, etc. But if you do get help in this way, you must inform us by filling out the Collaboration Declarations at the bottom of this notebook.\n",
        "\n",
        "Example: I found helpful code on stackoverflow at https://stackoverflow.com/questions/11764539/writing-fizzbuzz that helped me solve Problem 2."
      ]
    }
  ],
  "metadata": {
    "anaconda-cloud": {},
    "colab": {
      "provenance": []
    },
    "kernelspec": {
      "display_name": "Python 3",
      "language": "python",
      "name": "python3"
    },
    "language_info": {
      "codemirror_mode": {
        "name": "ipython",
        "version": 3
      },
      "file_extension": ".py",
      "mimetype": "text/x-python",
      "name": "python",
      "nbconvert_exporter": "python",
      "pygments_lexer": "ipython3",
      "version": "3.7.4"
    }
  },
  "nbformat": 4,
  "nbformat_minor": 0
}